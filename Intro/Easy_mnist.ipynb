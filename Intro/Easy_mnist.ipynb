{
  "nbformat": 4,
  "nbformat_minor": 0,
  "metadata": {
    "colab": {
      "provenance": []
    },
    "kernelspec": {
      "name": "python3",
      "display_name": "Python 3"
    },
    "language_info": {
      "name": "python"
    }
  },
  "cells": [
    {
      "cell_type": "markdown",
      "source": [
        "# An easy approach to ML\n",
        "\n",
        "How would you teach an algorithm to read hand-witten characters"
      ],
      "metadata": {
        "id": "DBVGnezjHBTI"
      }
    },
    {
      "cell_type": "code",
      "execution_count": 3,
      "metadata": {
        "colab": {
          "base_uri": "https://localhost:8080/",
          "height": 1000
        },
        "id": "XjjUB6X-G-HJ",
        "outputId": "d41ba954-2ac1-4741-e589-6fe5329cf0f5"
      },
      "outputs": [
        {
          "output_type": "stream",
          "name": "stdout",
          "text": [
            "[  0   0   0   0   0   0   0   0   0   0   0   0   0   0   0   0   0   0\n",
            "   0   0   0   0   0   0   0   0   0   0   0   0   0   0   0   0   0   0\n",
            "   0   0   0   0   0   0   0   0   0   0   0   0   0   0   0   0   0   0\n",
            "   0   0   0   0   0   0   0   0   0   0   0   0   0   0   0   0   0   0\n",
            "   0   0   0   0   0   0   0   0   0   0   0   0   0   0   0   0   0   0\n",
            "   0   0   0   0   0   0   0   0   0   0   0   0   0   0   0   0   0   0\n",
            "   0   0   0   0   0   0   0   0   0   0   0   0   0   0   0   0   0   0\n",
            "   0  51 159 253 159  50   0   0   0   0   0   0   0   0   0   0   0   0\n",
            "   0   0   0   0   0   0   0   0   0   0  48 238 252 252 252 237   0   0\n",
            "   0   0   0   0   0   0   0   0   0   0   0   0   0   0   0   0   0   0\n",
            "   0  54 227 253 252 239 233 252  57   6   0   0   0   0   0   0   0   0\n",
            "   0   0   0   0   0   0   0   0   0  10  60 224 252 253 252 202  84 252\n",
            " 253 122   0   0   0   0   0   0   0   0   0   0   0   0   0   0   0   0\n",
            "   0 163 252 252 252 253 252 252  96 189 253 167   0   0   0   0   0   0\n",
            "   0   0   0   0   0   0   0   0   0   0  51 238 253 253 190 114 253 228\n",
            "  47  79 255 168   0   0   0   0   0   0   0   0   0   0   0   0   0   0\n",
            "   0  48 238 252 252 179  12  75 121  21   0   0 253 243  50   0   0   0\n",
            "   0   0   0   0   0   0   0   0   0   0  38 165 253 233 208  84   0   0\n",
            "   0   0   0   0 253 252 165   0   0   0   0   0   0   0   0   0   0   0\n",
            "   0   7 178 252 240  71  19  28   0   0   0   0   0   0 253 252 195   0\n",
            "   0   0   0   0   0   0   0   0   0   0   0  57 252 252  63   0   0   0\n",
            "   0   0   0   0   0   0 253 252 195   0   0   0   0   0   0   0   0   0\n",
            "   0   0   0 198 253 190   0   0   0   0   0   0   0   0   0   0 255 253\n",
            " 196   0   0   0   0   0   0   0   0   0   0   0  76 246 252 112   0   0\n",
            "   0   0   0   0   0   0   0   0 253 252 148   0   0   0   0   0   0   0\n",
            "   0   0   0   0  85 252 230  25   0   0   0   0   0   0   0   0   7 135\n",
            " 253 186  12   0   0   0   0   0   0   0   0   0   0   0  85 252 223   0\n",
            "   0   0   0   0   0   0   0   7 131 252 225  71   0   0   0   0   0   0\n",
            "   0   0   0   0   0   0  85 252 145   0   0   0   0   0   0   0  48 165\n",
            " 252 173   0   0   0   0   0   0   0   0   0   0   0   0   0   0  86 253\n",
            " 225   0   0   0   0   0   0 114 238 253 162   0   0   0   0   0   0   0\n",
            "   0   0   0   0   0   0   0   0  85 252 249 146  48  29  85 178 225 253\n",
            " 223 167  56   0   0   0   0   0   0   0   0   0   0   0   0   0   0   0\n",
            "  85 252 252 252 229 215 252 252 252 196 130   0   0   0   0   0   0   0\n",
            "   0   0   0   0   0   0   0   0   0   0  28 199 252 252 253 252 252 233\n",
            " 145   0   0   0   0   0   0   0   0   0   0   0   0   0   0   0   0   0\n",
            "   0   0   0  25 128 252 253 252 141  37   0   0   0   0   0   0   0   0\n",
            "   0   0   0   0   0   0   0   0   0   0   0   0   0   0   0   0   0   0\n",
            "   0   0   0   0   0   0   0   0   0   0   0   0   0   0   0   0   0   0\n",
            "   0   0   0   0   0   0   0   0   0   0   0   0   0   0   0   0   0   0\n",
            "   0   0   0   0   0   0   0   0   0   0   0   0   0   0   0   0   0   0\n",
            "   0   0   0   0   0   0   0   0   0   0   0   0   0   0   0   0   0   0\n",
            "   0   0   0   0   0   0   0   0   0   0   0   0   0   0   0   0   0   0\n",
            "   0   0   0   0   0   0   0   0   0   0]\n"
          ]
        },
        {
          "output_type": "execute_result",
          "data": {
            "text/plain": [
              "<matplotlib.image.AxesImage at 0x7d5142838bc0>"
            ]
          },
          "metadata": {},
          "execution_count": 3
        },
        {
          "output_type": "display_data",
          "data": {
            "text/plain": [
              "<Figure size 640x480 with 1 Axes>"
            ],
            "image/png": "[encoded data removed]"
          },
          "metadata": {}
        }
      ],
      "source": [
        "#Import pandas\n",
        "import pandas as pd\n",
        "#Import mnist dataset\n",
        "from sklearn.datasets import fetch_openml\n",
        "\n",
        "#load the mnist dataset\n",
        "mnist = fetch_openml('mnist_784', version=1, cache=True, as_frame=False)\n",
        "\n",
        "#show an example of an element\n",
        "print(mnist.data[1])\n",
        "\n",
        "#and print as an image\n",
        "import matplotlib\n",
        "import matplotlib.pyplot as plt\n",
        "some_digit = mnist.data[1]\n",
        "some_digit_image = some_digit.reshape(28, 28)\n",
        "plt.imshow(some_digit_image, cmap = matplotlib.cm.binary,\n",
        "           interpolation=\"nearest\")"
      ]
    },
    {
      "cell_type": "markdown",
      "source": [
        "## What is this number?\n",
        "\n",
        "Ok so as we see a pc sees a hand written number as a matrix of digits, how would you write an algorithm to recognize one?\n",
        "\n"
      ],
      "metadata": {
        "id": "UeNv2Fk8IGCG"
      }
    },
    {
      "cell_type": "code",
      "source": [
        "# Prepare the dataset for  training\n",
        "X, y = mnist[\"data\"], mnist[\"target\"]\n",
        "\n",
        "print('The image')\n",
        "print(X[1])\n",
        "print('The label')\n",
        "print(y[1])\n"
      ],
      "metadata": {
        "colab": {
          "base_uri": "https://localhost:8080/"
        },
        "id": "o-N1g4hIIktT",
        "outputId": "18ad2aac-da25-4a43-c77c-c2dcfdc1052e"
      },
      "execution_count": 5,
      "outputs": [
        {
          "output_type": "stream",
          "name": "stdout",
          "text": [
            "The image\n",
            "[  0   0   0   0   0   0   0   0   0   0   0   0   0   0   0   0   0   0\n",
            "   0   0   0   0   0   0   0   0   0   0   0   0   0   0   0   0   0   0\n",
            "   0   0   0   0   0   0   0   0   0   0   0   0   0   0   0   0   0   0\n",
            "   0   0   0   0   0   0   0   0   0   0   0   0   0   0   0   0   0   0\n",
            "   0   0   0   0   0   0   0   0   0   0   0   0   0   0   0   0   0   0\n",
            "   0   0   0   0   0   0   0   0   0   0   0   0   0   0   0   0   0   0\n",
            "   0   0   0   0   0   0   0   0   0   0   0   0   0   0   0   0   0   0\n",
            "   0  51 159 253 159  50   0   0   0   0   0   0   0   0   0   0   0   0\n",
            "   0   0   0   0   0   0   0   0   0   0  48 238 252 252 252 237   0   0\n",
            "   0   0   0   0   0   0   0   0   0   0   0   0   0   0   0   0   0   0\n",
            "   0  54 227 253 252 239 233 252  57   6   0   0   0   0   0   0   0   0\n",
            "   0   0   0   0   0   0   0   0   0  10  60 224 252 253 252 202  84 252\n",
            " 253 122   0   0   0   0   0   0   0   0   0   0   0   0   0   0   0   0\n",
            "   0 163 252 252 252 253 252 252  96 189 253 167   0   0   0   0   0   0\n",
            "   0   0   0   0   0   0   0   0   0   0  51 238 253 253 190 114 253 228\n",
            "  47  79 255 168   0   0   0   0   0   0   0   0   0   0   0   0   0   0\n",
            "   0  48 238 252 252 179  12  75 121  21   0   0 253 243  50   0   0   0\n",
            "   0   0   0   0   0   0   0   0   0   0  38 165 253 233 208  84   0   0\n",
            "   0   0   0   0 253 252 165   0   0   0   0   0   0   0   0   0   0   0\n",
            "   0   7 178 252 240  71  19  28   0   0   0   0   0   0 253 252 195   0\n",
            "   0   0   0   0   0   0   0   0   0   0   0  57 252 252  63   0   0   0\n",
            "   0   0   0   0   0   0 253 252 195   0   0   0   0   0   0   0   0   0\n",
            "   0   0   0 198 253 190   0   0   0   0   0   0   0   0   0   0 255 253\n",
            " 196   0   0   0   0   0   0   0   0   0   0   0  76 246 252 112   0   0\n",
            "   0   0   0   0   0   0   0   0 253 252 148   0   0   0   0   0   0   0\n",
            "   0   0   0   0  85 252 230  25   0   0   0   0   0   0   0   0   7 135\n",
            " 253 186  12   0   0   0   0   0   0   0   0   0   0   0  85 252 223   0\n",
            "   0   0   0   0   0   0   0   7 131 252 225  71   0   0   0   0   0   0\n",
            "   0   0   0   0   0   0  85 252 145   0   0   0   0   0   0   0  48 165\n",
            " 252 173   0   0   0   0   0   0   0   0   0   0   0   0   0   0  86 253\n",
            " 225   0   0   0   0   0   0 114 238 253 162   0   0   0   0   0   0   0\n",
            "   0   0   0   0   0   0   0   0  85 252 249 146  48  29  85 178 225 253\n",
            " 223 167  56   0   0   0   0   0   0   0   0   0   0   0   0   0   0   0\n",
            "  85 252 252 252 229 215 252 252 252 196 130   0   0   0   0   0   0   0\n",
            "   0   0   0   0   0   0   0   0   0   0  28 199 252 252 253 252 252 233\n",
            " 145   0   0   0   0   0   0   0   0   0   0   0   0   0   0   0   0   0\n",
            "   0   0   0  25 128 252 253 252 141  37   0   0   0   0   0   0   0   0\n",
            "   0   0   0   0   0   0   0   0   0   0   0   0   0   0   0   0   0   0\n",
            "   0   0   0   0   0   0   0   0   0   0   0   0   0   0   0   0   0   0\n",
            "   0   0   0   0   0   0   0   0   0   0   0   0   0   0   0   0   0   0\n",
            "   0   0   0   0   0   0   0   0   0   0   0   0   0   0   0   0   0   0\n",
            "   0   0   0   0   0   0   0   0   0   0   0   0   0   0   0   0   0   0\n",
            "   0   0   0   0   0   0   0   0   0   0   0   0   0   0   0   0   0   0\n",
            "   0   0   0   0   0   0   0   0   0   0]\n",
            "The label\n",
            "0\n"
          ]
        }
      ]
    },
    {
      "cell_type": "code",
      "source": [
        "#Let's split test and train dataset using a 20%split\n",
        "X_train, X_test, y_train, y_test = X[:60000], X[60000:], y[:60000], y[60000:]\n",
        "\n",
        "# And build a first feed forward network\n",
        "import tensorflow as tf\n",
        "from tensorflow import keras\n",
        "# create a feed forward network\n",
        "model = keras.models\n",
        "# let's assign 4 layers (784, 16,16 10)\n",
        "\n",
        "\n"
      ],
      "metadata": {
        "colab": {
          "base_uri": "https://localhost:8080/",
          "height": 287
        },
        "id": "f3CSNM-qJERn",
        "outputId": "7d3bf456-e482-4c70-8cf4-2c39fb808e0c"
      },
      "execution_count": 6,
      "outputs": [
        {
          "output_type": "stream",
          "name": "stderr",
          "text": [
            "/usr/local/lib/python3.12/dist-packages/keras/src/layers/core/input_layer.py:27: UserWarning: Argument `input_shape` is deprecated. Use `shape` instead.\n",
            "  warnings.warn(\n"
          ]
        },
        {
          "output_type": "display_data",
          "data": {
            "text/plain": [
              "\u001b[1mModel: \"sequential\"\u001b[0m\n"
            ],
            "text/html": [
              "<pre style=\"white-space:pre;overflow-x:auto;line-height:normal;font-family:Menlo,'DejaVu Sans Mono',consolas,'Courier New',monospace\"><span style=\"font-weight: bold\">Model: \"sequential\"</span>\n",
              "</pre>\n"
            ]
          },
          "metadata": {}
        },
        {
          "output_type": "display_data",
          "data": {
            "text/plain": [
              "┏━━━━━━━━━━━━━━━━━━━━━━━━━━━━━━━━━┳━━━━━━━━━━━━━━━━━━━━━━━━┳━━━━━━━━━━━━━━━┓\n",
              "┃\u001b[1m \u001b[0m\u001b[1mLayer (type)                   \u001b[0m\u001b[1m \u001b[0m┃\u001b[1m \u001b[0m\u001b[1mOutput Shape          \u001b[0m\u001b[1m \u001b[0m┃\u001b[1m \u001b[0m\u001b[1m      Param #\u001b[0m\u001b[1m \u001b[0m┃\n",
              "┡━━━━━━━━━━━━━━━━━━━━━━━━━━━━━━━━━╇━━━━━━━━━━━━━━━━━━━━━━━━╇━━━━━━━━━━━━━━━┩\n",
              "│ dense (\u001b[38;5;33mDense\u001b[0m)                   │ (\u001b[38;5;45mNone\u001b[0m, \u001b[38;5;34m16\u001b[0m)             │        \u001b[38;5;34m12,560\u001b[0m │\n",
              "├─────────────────────────────────┼────────────────────────┼───────────────┤\n",
              "│ dense_1 (\u001b[38;5;33mDense\u001b[0m)                 │ (\u001b[38;5;45mNone\u001b[0m, \u001b[38;5;34m16\u001b[0m)             │           \u001b[38;5;34m272\u001b[0m │\n",
              "├─────────────────────────────────┼────────────────────────┼───────────────┤\n",
              "│ dense_2 (\u001b[38;5;33mDense\u001b[0m)                 │ (\u001b[38;5;45mNone\u001b[0m, \u001b[38;5;34m10\u001b[0m)             │           \u001b[38;5;34m170\u001b[0m │\n",
              "└─────────────────────────────────┴────────────────────────┴───────────────┘\n"
            ],
            "text/html": [
              "<pre style=\"white-space:pre;overflow-x:auto;line-height:normal;font-family:Menlo,'DejaVu Sans Mono',consolas,'Courier New',monospace\">┏━━━━━━━━━━━━━━━━━━━━━━━━━━━━━━━━━┳━━━━━━━━━━━━━━━━━━━━━━━━┳━━━━━━━━━━━━━━━┓\n",
              "┃<span style=\"font-weight: bold\"> Layer (type)                    </span>┃<span style=\"font-weight: bold\"> Output Shape           </span>┃<span style=\"font-weight: bold\">       Param # </span>┃\n",
              "┡━━━━━━━━━━━━━━━━━━━━━━━━━━━━━━━━━╇━━━━━━━━━━━━━━━━━━━━━━━━╇━━━━━━━━━━━━━━━┩\n",
              "│ dense (<span style=\"color: #0087ff; text-decoration-color: #0087ff\">Dense</span>)                   │ (<span style=\"color: #00d7ff; text-decoration-color: #00d7ff\">None</span>, <span style=\"color: #00af00; text-decoration-color: #00af00\">16</span>)             │        <span style=\"color: #00af00; text-decoration-color: #00af00\">12,560</span> │\n",
              "├─────────────────────────────────┼────────────────────────┼───────────────┤\n",
              "│ dense_1 (<span style=\"color: #0087ff; text-decoration-color: #0087ff\">Dense</span>)                 │ (<span style=\"color: #00d7ff; text-decoration-color: #00d7ff\">None</span>, <span style=\"color: #00af00; text-decoration-color: #00af00\">16</span>)             │           <span style=\"color: #00af00; text-decoration-color: #00af00\">272</span> │\n",
              "├─────────────────────────────────┼────────────────────────┼───────────────┤\n",
              "│ dense_2 (<span style=\"color: #0087ff; text-decoration-color: #0087ff\">Dense</span>)                 │ (<span style=\"color: #00d7ff; text-decoration-color: #00d7ff\">None</span>, <span style=\"color: #00af00; text-decoration-color: #00af00\">10</span>)             │           <span style=\"color: #00af00; text-decoration-color: #00af00\">170</span> │\n",
              "└─────────────────────────────────┴────────────────────────┴───────────────┘\n",
              "</pre>\n"
            ]
          },
          "metadata": {}
        },
        {
          "output_type": "display_data",
          "data": {
            "text/plain": [
              "\u001b[1m Total params: \u001b[0m\u001b[38;5;34m13,002\u001b[0m (50.79 KB)\n"
            ],
            "text/html": [
              "<pre style=\"white-space:pre;overflow-x:auto;line-height:normal;font-family:Menlo,'DejaVu Sans Mono',consolas,'Courier New',monospace\"><span style=\"font-weight: bold\"> Total params: </span><span style=\"color: #00af00; text-decoration-color: #00af00\">13,002</span> (50.79 KB)\n",
              "</pre>\n"
            ]
          },
          "metadata": {}
        },
        {
          "output_type": "display_data",
          "data": {
            "text/plain": [
              "\u001b[1m Trainable params: \u001b[0m\u001b[38;5;34m13,002\u001b[0m (50.79 KB)\n"
            ],
            "text/html": [
              "<pre style=\"white-space:pre;overflow-x:auto;line-height:normal;font-family:Menlo,'DejaVu Sans Mono',consolas,'Courier New',monospace\"><span style=\"font-weight: bold\"> Trainable params: </span><span style=\"color: #00af00; text-decoration-color: #00af00\">13,002</span> (50.79 KB)\n",
              "</pre>\n"
            ]
          },
          "metadata": {}
        },
        {
          "output_type": "display_data",
          "data": {
            "text/plain": [
              "\u001b[1m Non-trainable params: \u001b[0m\u001b[38;5;34m0\u001b[0m (0.00 B)\n"
            ],
            "text/html": [
              "<pre style=\"white-space:pre;overflow-x:auto;line-height:normal;font-family:Menlo,'DejaVu Sans Mono',consolas,'Courier New',monospace\"><span style=\"font-weight: bold\"> Non-trainable params: </span><span style=\"color: #00af00; text-decoration-color: #00af00\">0</span> (0.00 B)\n",
              "</pre>\n"
            ]
          },
          "metadata": {}
        }
      ]
    },
    {
      "cell_type": "markdown",
      "source": [
        "# Now let's check  what is the outcome of such model\n"
      ],
      "metadata": {
        "id": "oBUuklo6LMDe"
      }
    },
    {
      "cell_type": "code",
      "source": [
        "#checek that the input format works with one example\n",
        "model.predict(X_train[1].reshape(1,784))\n"
      ],
      "metadata": {
        "colab": {
          "base_uri": "https://localhost:8080/"
        },
        "id": "Y0tVUvo3K7D3",
        "outputId": "6f2fce6a-da22-4eb3-8965-6db6ae6b3218"
      },
      "execution_count": 7,
      "outputs": [
        {
          "output_type": "stream",
          "name": "stdout",
          "text": [
            "\u001b[1m1/1\u001b[0m \u001b[32m━━━━━━━━━━━━━━━━━━━━\u001b[0m\u001b[37m\u001b[0m \u001b[1m0s\u001b[0m 158ms/step\n"
          ]
        },
        {
          "output_type": "execute_result",
          "data": {
            "text/plain": [
              "array([[0.0000000e+00, 0.0000000e+00, 9.9999452e-01, 5.4316383e-06,\n",
              "        1.1253061e-31, 2.0785288e-24, 1.4871478e-08, 8.3594478e-15,\n",
              "        0.0000000e+00, 4.3373259e-35]], dtype=float32)"
            ]
          },
          "metadata": {},
          "execution_count": 7
        }
      ]
    },
    {
      "cell_type": "markdown",
      "source": [
        "## As you see, it is not exactly doing a great job\n",
        "\n",
        "This is because, when creating the model we all weights and biases are random\n",
        "\n",
        "## Now let's begin the training!"
      ],
      "metadata": {
        "id": "jLb0rQdULRoc"
      }
    },
    {
      "cell_type": "code",
      "source": [
        "#let's see the default loss\n",
        "print(model.loss)\n",
        "#and change it as a mean squared error\n",
        "model.loss = tf.keras.losses.MeanSquaredError()\n",
        "\n",
        "# Convert y_test to integers\n",
        "y_test = y_test.astype(int)\n",
        "\n",
        "#let's first check our cost function that was selected by default\n",
        "model.evaluate(X_test, y_test)"
      ],
      "metadata": {
        "colab": {
          "base_uri": "https://localhost:8080/"
        },
        "id": "H8gf1mHnLszT",
        "outputId": "d0a056ae-68ee-4413-ed36-2df60a195d82"
      },
      "execution_count": 12,
      "outputs": [
        {
          "output_type": "stream",
          "name": "stdout",
          "text": [
            "sparse_categorical_crossentropy\n",
            "\u001b[1m313/313\u001b[0m \u001b[32m━━━━━━━━━━━━━━━━━━━━\u001b[0m\u001b[37m\u001b[0m \u001b[1m0s\u001b[0m 1ms/step - accuracy: 0.1323 - loss: 73.7557\n"
          ]
        },
        {
          "output_type": "execute_result",
          "data": {
            "text/plain": [
              "[74.9224624633789, 0.13779999315738678]"
            ]
          },
          "metadata": {},
          "execution_count": 12
        }
      ]
    },
    {
      "cell_type": "markdown",
      "source": [
        "# Now train the model\n"
      ],
      "metadata": {
        "id": "cYeRyfI4Mzwd"
      }
    },
    {
      "cell_type": "code",
      "source": [
        "# Convert y_train to integers\n",
        "y_train = y_train.astype(int)\n",
        "\n",
        "#Train the model\n",
        "model.fit(X_train, y_train, epochs=10, batch_size=32)"
      ],
      "metadata": {
        "colab": {
          "base_uri": "https://localhost:8080/"
        },
        "id": "C0hONsTHM4TD",
        "outputId": "8745f1b4-e9c0-4aa3-f27c-a5029f110d76"
      },
      "execution_count": 16,
      "outputs": [
        {
          "output_type": "stream",
          "name": "stdout",
          "text": [
            "Epoch 1/10\n",
            "\u001b[1m1875/1875\u001b[0m \u001b[32m━━━━━━━━━━━━━━━━━━━━\u001b[0m\u001b[37m\u001b[0m \u001b[1m3s\u001b[0m 2ms/step - accuracy: 0.8139 - loss: 0.6433\n",
            "Epoch 2/10\n",
            "\u001b[1m1875/1875\u001b[0m \u001b[32m━━━━━━━━━━━━━━━━━━━━\u001b[0m\u001b[37m\u001b[0m \u001b[1m5s\u001b[0m 2ms/step - accuracy: 0.8202 - loss: 0.6197\n",
            "Epoch 3/10\n",
            "\u001b[1m1875/1875\u001b[0m \u001b[32m━━━━━━━━━━━━━━━━━━━━\u001b[0m\u001b[37m\u001b[0m \u001b[1m4s\u001b[0m 2ms/step - accuracy: 0.8279 - loss: 0.6108\n",
            "Epoch 4/10\n",
            "\u001b[1m1875/1875\u001b[0m \u001b[32m━━━━━━━━━━━━━━━━━━━━\u001b[0m\u001b[37m\u001b[0m \u001b[1m5s\u001b[0m 2ms/step - accuracy: 0.8283 - loss: 0.5941\n",
            "Epoch 5/10\n",
            "\u001b[1m1875/1875\u001b[0m \u001b[32m━━━━━━━━━━━━━━━━━━━━\u001b[0m\u001b[37m\u001b[0m \u001b[1m5s\u001b[0m 2ms/step - accuracy: 0.8364 - loss: 0.5728\n",
            "Epoch 6/10\n",
            "\u001b[1m1875/1875\u001b[0m \u001b[32m━━━━━━━━━━━━━━━━━━━━\u001b[0m\u001b[37m\u001b[0m \u001b[1m4s\u001b[0m 2ms/step - accuracy: 0.8344 - loss: 0.5615\n",
            "Epoch 7/10\n",
            "\u001b[1m1875/1875\u001b[0m \u001b[32m━━━━━━━━━━━━━━━━━━━━\u001b[0m\u001b[37m\u001b[0m \u001b[1m3s\u001b[0m 2ms/step - accuracy: 0.8429 - loss: 0.5489\n",
            "Epoch 8/10\n",
            "\u001b[1m1875/1875\u001b[0m \u001b[32m━━━━━━━━━━━━━━━━━━━━\u001b[0m\u001b[37m\u001b[0m \u001b[1m5s\u001b[0m 2ms/step - accuracy: 0.8439 - loss: 0.5367\n",
            "Epoch 9/10\n",
            "\u001b[1m1875/1875\u001b[0m \u001b[32m━━━━━━━━━━━━━━━━━━━━\u001b[0m\u001b[37m\u001b[0m \u001b[1m4s\u001b[0m 2ms/step - accuracy: 0.8510 - loss: 0.5186\n",
            "Epoch 10/10\n",
            "\u001b[1m1875/1875\u001b[0m \u001b[32m━━━━━━━━━━━━━━━━━━━━\u001b[0m\u001b[37m\u001b[0m \u001b[1m4s\u001b[0m 2ms/step - accuracy: 0.8598 - loss: 0.4911\n"
          ]
        },
        {
          "output_type": "execute_result",
          "data": {
            "text/plain": [
              "<keras.src.callbacks.history.History at 0x7d5085d67980>"
            ]
          },
          "metadata": {},
          "execution_count": 16
        }
      ]
    },
    {
      "cell_type": "markdown",
      "metadata": {
        "id": "368d31e8"
      },
      "source": [
        "## Explanation of Model Training\n",
        "\n",
        "You just trained the neural network using the `model.fit()` function. Here's what happened:\n",
        "\n",
        "*   **Epochs:** You specified `epochs=5`, meaning the model went through the entire training dataset 5 times.\n",
        "*   **Batch Size:** You used a `batch_size=32`, which means the model updated its weights after processing every 32 examples from the training data.\n",
        "*   **Loss (sparse_categorical_crossentropy):** This number indicates how well the model is performing. A lower loss means the model's predictions are closer to the true labels. You can see the loss decreasing with each epoch, which is a good sign that the model is learning.\n",
        "*   **Accuracy:** This metric shows the percentage of correctly classified handwritten digits in the training set for each epoch. As you can see, the accuracy increased significantly from the first to the last epoch, indicating that the model is getting better at recognizing the digits.\n",
        "\n",
        "The training process adjusted the model's internal parameters (weights and biases) to minimize the loss and maximize the accuracy on the training data. The goal is for the model to learn patterns in the handwritten digits that allow it to correctly classify new, unseen digits."
      ]
    },
    {
      "cell_type": "code",
      "source": [
        "#Now let's evaluate on the  test set\n",
        "model.evaluate(X_test, y_test)"
      ],
      "metadata": {
        "colab": {
          "base_uri": "https://localhost:8080/"
        },
        "id": "jrISVpE6NeYz",
        "outputId": "c01103c9-c8de-46fb-d317-f7c482eea417"
      },
      "execution_count": 17,
      "outputs": [
        {
          "output_type": "stream",
          "name": "stdout",
          "text": [
            "\u001b[1m313/313\u001b[0m \u001b[32m━━━━━━━━━━━━━━━━━━━━\u001b[0m\u001b[37m\u001b[0m \u001b[1m1s\u001b[0m 2ms/step - accuracy: 0.8425 - loss: 0.5598\n"
          ]
        },
        {
          "output_type": "execute_result",
          "data": {
            "text/plain": [
              "[0.4995267987251282, 0.8644000291824341]"
            ]
          },
          "metadata": {},
          "execution_count": 17
        }
      ]
    },
    {
      "cell_type": "markdown",
      "source": [
        "###Note that the accuracy is different from the loss, why?\n"
      ],
      "metadata": {
        "id": "PSo_Tz5pNeDc"
      }
    },
    {
      "cell_type": "code",
      "source": [
        "#Lets' now predict our first digit\n",
        "model.predict(X_train[1].reshape(1,784))"
      ],
      "metadata": {
        "colab": {
          "base_uri": "https://localhost:8080/"
        },
        "id": "v7FzuYI5NzQf",
        "outputId": "bcb1b8c9-26a6-4a20-c891-332d7814ebb9"
      },
      "execution_count": 18,
      "outputs": [
        {
          "output_type": "stream",
          "name": "stdout",
          "text": [
            "\u001b[1m1/1\u001b[0m \u001b[32m━━━━━━━━━━━━━━━━━━━━\u001b[0m\u001b[37m\u001b[0m \u001b[1m0s\u001b[0m 34ms/step\n"
          ]
        },
        {
          "output_type": "execute_result",
          "data": {
            "text/plain": [
              "array([[9.9859029e-01, 9.9195540e-07, 1.8538887e-04, 1.2285775e-04,\n",
              "        1.3155952e-07, 9.1034814e-04, 1.4422135e-04, 3.8196872e-06,\n",
              "        3.8725211e-05, 3.1794534e-06]], dtype=float32)"
            ]
          },
          "metadata": {},
          "execution_count": 18
        }
      ]
    }
  ]
}